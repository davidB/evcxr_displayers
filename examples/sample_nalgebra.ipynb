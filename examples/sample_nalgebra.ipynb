{
 "cells": [
  {
   "cell_type": "code",
   "execution_count": 2,
   "metadata": {},
   "outputs": [
    {
     "data": {
      "text/plain": [
       "Timing: true"
      ]
     },
     "execution_count": 2,
     "metadata": {},
     "output_type": "execute_result"
    },
    {
     "data": {
      "text/html": [
       "<span style=\"color: rgba(0,0,0,0.4);\">Took 0ms</span>"
      ]
     },
     "execution_count": 2,
     "metadata": {},
     "output_type": "execute_result"
    }
   ],
   "source": [
    ":timing"
   ]
  },
  {
   "cell_type": "code",
   "execution_count": 7,
   "metadata": {},
   "outputs": [
    {
     "data": {
      "text/html": [
       "<span style=\"color: rgba(0,0,0,0.4);\">Took 36337ms</span>"
      ]
     },
     "execution_count": 7,
     "metadata": {},
     "output_type": "execute_result"
    }
   ],
   "source": [
    ":dep nalgebra = \"0.16.12\""
   ]
  },
  {
   "cell_type": "code",
   "execution_count": 8,
   "metadata": {},
   "outputs": [
    {
     "data": {
      "text/html": [
       "<span style=\"color: rgba(0,0,0,0.4);\">Took 34416ms</span>"
      ]
     },
     "execution_count": 8,
     "metadata": {},
     "output_type": "execute_result"
    }
   ],
   "source": [
    ":dep evcxr_displayers = { version = \"0.1.0\", features=[\"display_nalgebra\"], path=\"/Users/davidb/src/github.com/davidB/evcxr_displayers\"}"
   ]
  },
  {
   "cell_type": "code",
   "execution_count": 9,
   "metadata": {},
   "outputs": [
    {
     "data": {
      "text/html": [
       "<span style=\"color: rgba(0,0,0,0.4);\">Took 1454ms</span>"
      ]
     },
     "execution_count": 9,
     "metadata": {},
     "output_type": "execute_result"
    }
   ],
   "source": [
    "extern crate nalgebra;\n",
    "extern crate evcxr_displayers;\n",
    "use nalgebra as na;\n",
    "use evcxr_displayers::EvcxrDisplay;"
   ]
  },
  {
   "cell_type": "code",
   "execution_count": 10,
   "metadata": {},
   "outputs": [
    {
     "data": {
      "text/html": [
       "<table><tr><th></th><th>0</th><th>1</th><th>2</th><th>3</th><tr><tr><th>0</th><td>11</td><td>12</td><td>13</td><td>14</td></tr><tr><th>1</th><td>21</td><td>22</td><td>23</td><td>24</td></tr><tr><th>2</th><td>31</td><td>32</td><td>33</td><td>34</td></tr></table>"
      ]
     },
     "execution_count": 10,
     "metadata": {},
     "output_type": "execute_result"
    },
    {
     "data": {
      "text/html": [
       "<span style=\"color: rgba(0,0,0,0.4);\">Took 1940ms</span>"
      ]
     },
     "execution_count": 10,
     "metadata": {},
     "output_type": "execute_result"
    }
   ],
   "source": [
    "na::Matrix3x4::new(11, 12, 13, 14,\n",
    "                    21, 22, 23, 24,\n",
    "                    31, 32, 33, 34)"
   ]
  },
  {
   "cell_type": "code",
   "execution_count": 11,
   "metadata": {},
   "outputs": [
    {
     "data": {
      "text/plain": [
       ":vars             List bound variables and their types\n",
       ":opt              Toggle optimization\n",
       ":explain          Print explanation of last error\n",
       ":clear            Clear all state, keeping compilation cache\n",
       ":dep              Add dependency. e.g. :dep regex = \"1.0\"\n",
       "\n",
       "Mostly for development / debugging purposes:\n",
       ":last_compile_dir Print the directory in which we last compiled\n",
       ":timing           Toggle printing of how long evaluations take\n",
       ":last_error_json  Print the last compilation error as JSON (for debugging)\n",
       ":internal_debug   Toggle various internal debugging code"
      ]
     },
     "execution_count": 11,
     "metadata": {},
     "output_type": "execute_result"
    },
    {
     "data": {
      "text/html": [
       "<span style=\"color: rgba(0,0,0,0.4);\">Took 0ms</span>"
      ]
     },
     "execution_count": 11,
     "metadata": {},
     "output_type": "execute_result"
    }
   ],
   "source": [
    ":help"
   ]
  },
  {
   "cell_type": "code",
   "execution_count": null,
   "metadata": {},
   "outputs": [],
   "source": []
  }
 ],
 "metadata": {
  "kernelspec": {
   "display_name": "Rust",
   "language": "rust",
   "name": "rust"
  },
  "language_info": {
   "codemirror_mode": "rust",
   "file_extension": ".rs",
   "mimetype": "text/rust",
   "name": "Rust",
   "pygment_lexer": "rust",
   "version": ""
  }
 },
 "nbformat": 4,
 "nbformat_minor": 2
}
